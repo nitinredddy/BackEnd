{
  "nbformat": 4,
  "nbformat_minor": 0,
  "metadata": {
    "colab": {
      "provenance": [],
      "authorship_tag": "ABX9TyOYRi9ZrTXavU0eZQZ90hVO",
      "include_colab_link": true
    },
    "kernelspec": {
      "name": "python3",
      "display_name": "Python 3"
    },
    "language_info": {
      "name": "python"
    }
  },
  "cells": [
    {
      "cell_type": "markdown",
      "metadata": {
        "id": "view-in-github",
        "colab_type": "text"
      },
      "source": [
        "<a href=\"https://colab.research.google.com/github/nitinredddy/BackEnd/blob/main/IMBD_dataset_analysis.ipynb\" target=\"_parent\"><img src=\"https://colab.research.google.com/assets/colab-badge.svg\" alt=\"Open In Colab\"/></a>"
      ]
    },
    {
      "cell_type": "code",
      "execution_count": 3,
      "metadata": {
        "id": "3UKiBFP08Kw6"
      },
      "outputs": [],
      "source": [
        "import pandas as pd\n",
        "import numpy as np\n",
        "import re\n",
        "import matplotlib.pyplot as plt\n",
        "import seaborn as sns\n",
        "from sklearn.model_selection import train_test_split\n",
        "from sklearn.feature_extraction.text import TfidfVectorizer\n",
        "from sklearn.linear_model import LogisticRegression\n",
        "from sklearn.metrics import accuracy_score, classification_report\n",
        "import tensorflow as tf\n",
        "from tensorflow.keras.models import Sequential\n",
        "from tensorflow.keras.layers import Embedding, LSTM, Dense, Dropout\n",
        "from tensorflow.keras.preprocessing.text import Tokenizer\n",
        "from tensorflow.keras.preprocessing.sequence import pad_sequences\n",
        "\n",
        "# Load dataset with error handling\n",
        "try:\n",
        "    data = pd.read_csv(\"IMDB Dataset.csv\", encoding=\"utf-8\", on_bad_lines=\"skip\")  # Skips malformed rows\n",
        "except Exception as e:\n",
        "    print(\"Error reading CSV file:\", e)\n",
        "    exit()\n",
        "\n",
        "# Preprocessing function\n",
        "def preprocess_text(text):\n",
        "    text = text.lower()  # Convert to lowercase for consistency\n",
        "    text = re.sub(r'[^a-zA-Z\\s]', '', text)  # Remove punctuation and special characters\n",
        "    return text\n",
        "\n",
        "# Apply text preprocessing\n",
        "data['review'] = data['review'].astype(str).apply(preprocess_text)  # Ensure reviews are strings\n",
        "data['sentiment'] = data['sentiment'].map({'positive': 1, 'negative': 0})  # Convert labels to binary"
      ]
    },
    {
      "cell_type": "code",
      "source": [
        "train_texts,test_texts,train_labels,test_labels = train_test_split(data['review'],data['sentiment'],test_size=0.2,random_state = 42)"
      ],
      "metadata": {
        "id": "D-_Oi3ug84eX"
      },
      "execution_count": 5,
      "outputs": []
    },
    {
      "cell_type": "code",
      "source": [],
      "metadata": {
        "id": "kuW_1CfE9jee"
      },
      "execution_count": null,
      "outputs": []
    }
  ]
}